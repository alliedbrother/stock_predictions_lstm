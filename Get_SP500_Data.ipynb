{
 "cells": [
  {
   "cell_type": "code",
   "execution_count": 1,
   "metadata": {},
   "outputs": [
    {
     "name": "stderr",
     "output_type": "stream",
     "text": [
      "[*********************100%***********************]  50 of 50 completed\n"
     ]
    },
    {
     "name": "stdout",
     "output_type": "stream",
     "text": [
      "Ticker     GOOGL                                      ISRG            \\\n",
      "Price       Open High Low Close Adj Close Volume      Open      High   \n",
      "Date                                                                   \n",
      "2003-01-02   NaN  NaN NaN   NaN       NaN    NaN  1.366667  1.377778   \n",
      "2003-01-03   NaN  NaN NaN   NaN       NaN    NaN  1.346667  1.428889   \n",
      "2003-01-06   NaN  NaN NaN   NaN       NaN    NaN  1.377778  1.411111   \n",
      "2003-01-07   NaN  NaN NaN   NaN       NaN    NaN  1.351111  1.373333   \n",
      "2003-01-08   NaN  NaN NaN   NaN       NaN    NaN  1.311111  1.340000   \n",
      "\n",
      "Ticker                          ...        DHR                                \\\n",
      "Price            Low     Close  ...        Low      Close Adj Close   Volume   \n",
      "Date                            ...                                            \n",
      "2003-01-02  1.333333  1.355556  ...  11.034512  11.342006  6.791352  5991797   \n",
      "2003-01-03  1.344444  1.355556  ...  11.266393  11.323523  6.780284  6886282   \n",
      "2003-01-06  1.337778  1.355556  ...  11.306720  11.422661  6.839648  5289540   \n",
      "2003-01-07  1.311111  1.324444  ...  11.128609  11.152133  6.677660  8850220   \n",
      "2003-01-08  1.280000  1.286667  ...  10.932014  10.999226  6.586101  4079635   \n",
      "\n",
      "Ticker            IBM                                                        \n",
      "Price            Open       High        Low      Close  Adj Close    Volume  \n",
      "Date                                                                         \n",
      "2003-01-02  75.334610  77.026772  74.751434  77.026772  41.604309   8226267  \n",
      "2003-01-03  77.151054  78.059273  76.682602  78.059273  42.161976   6236566  \n",
      "2003-01-06  78.298279  81.070747  78.212234  79.913956  43.163776   8285680  \n",
      "2003-01-07  80.258125  82.390060  80.066925  82.217972  44.408222  12454617  \n",
      "2003-01-08  81.787766  81.921608  80.372849  80.487572  43.473579   9946205  \n",
      "\n",
      "[5 rows x 300 columns]\n"
     ]
    }
   ],
   "source": [
    "import yfinance as yf\n",
    "import pandas as pd\n",
    "import datetime\n",
    "\n",
    "# Get the current date as the end date\n",
    "end_date = datetime.datetime.today().strftime('%Y-%m-%d')\n",
    "\n",
    "# Example list of S&P 500 tickers (full list can be obtained elsewhere)\n",
    "sp500_tickers = [\"AAPL\", \"NVDA\", \"MSFT\", \"GOOG\", \"GOOGL\", \"AMZN\", \"META\", \"AVGO\", \"LLY\", \"TSLA\", \n",
    "                 \"WMT\", \"JPM\", \"V\", \"XOM\", \"UNH\", \"ORCL\", \"MA\", \"HD\", \"PG\", \"COST\", \"JNJ\", \n",
    "                 \"NFLX\", \"ABBV\", \"BAC\", \"KO\", \"CRM\", \"CVX\", \"MRK\", \"TMUS\", \"AMD\", \"PEP\", \n",
    "                 \"ACN\", \"LIN\", \"TMO\", \"MCD\", \"CSCO\", \"ADBE\", \"WFC\", \"IBM\", \"GE\", \"ABT\", \n",
    "                 \"DHR\", \"AXP\", \"MS\", \"CAT\", \"NOW\", \"QCOM\", \"PM\", \"ISRG\", \"VZ\"]\n",
    "\n",
    "# Download data for all tickers at once\n",
    "data = yf.download(sp500_tickers, start='2003-01-01', end=end_date, group_by='ticker')\n",
    "\n",
    "# The data now has a MultiIndex column: first level is price type, second level is ticker\n",
    "# To have a cleaner dataframe, we can stack the price types and unstack the tickers\n",
    "\n",
    "# Now, 'close_data' is a dataframe with dates as index and tickers as columns\n",
    "print(data.head())"
   ]
  },
  {
   "cell_type": "code",
   "execution_count": 2,
   "metadata": {},
   "outputs": [
    {
     "name": "stdout",
     "output_type": "stream",
     "text": [
      "Ticker           GOOGL                                                  \\\n",
      "Price             Open        High         Low       Close   Adj Close   \n",
      "Date                                                                     \n",
      "2024-12-11  185.309998  195.610001  184.850006  195.399994  195.399994   \n",
      "\n",
      "Ticker                        ISRG                                      ...  \\\n",
      "Price           Volume        Open        High         Low       Close  ...   \n",
      "Date                                                                    ...   \n",
      "2024-12-11  67656700.0  538.219971  548.530029  538.219971  543.599976  ...   \n",
      "\n",
      "Ticker             DHR                                          IBM         \\\n",
      "Price              Low       Close   Adj Close   Volume        Open   High   \n",
      "Date                                                                         \n",
      "2024-12-11  234.339996  235.399994  235.399994  3370000  232.690002  233.0   \n",
      "\n",
      "Ticker                                                   \n",
      "Price              Low       Close   Adj Close   Volume  \n",
      "Date                                                     \n",
      "2024-12-11  229.130005  230.119995  230.119995  3871800  \n",
      "\n",
      "[1 rows x 300 columns]\n"
     ]
    }
   ],
   "source": [
    "print(data.tail(1))"
   ]
  },
  {
   "cell_type": "code",
   "execution_count": 3,
   "metadata": {},
   "outputs": [],
   "source": [
    "data.to_parquet('sp50_data_new.parquet')"
   ]
  },
  {
   "cell_type": "code",
   "execution_count": 4,
   "metadata": {},
   "outputs": [
    {
     "data": {
      "text/plain": [
       "MultiIndex([('GOOGL',      'Open'),\n",
       "            ('GOOGL',      'High'),\n",
       "            ('GOOGL',       'Low'),\n",
       "            ('GOOGL',     'Close'),\n",
       "            ('GOOGL', 'Adj Close'),\n",
       "            ('GOOGL',    'Volume'),\n",
       "            ( 'ISRG',      'Open'),\n",
       "            ( 'ISRG',      'High'),\n",
       "            ( 'ISRG',       'Low'),\n",
       "            ( 'ISRG',     'Close'),\n",
       "            ...\n",
       "            (  'DHR',       'Low'),\n",
       "            (  'DHR',     'Close'),\n",
       "            (  'DHR', 'Adj Close'),\n",
       "            (  'DHR',    'Volume'),\n",
       "            (  'IBM',      'Open'),\n",
       "            (  'IBM',      'High'),\n",
       "            (  'IBM',       'Low'),\n",
       "            (  'IBM',     'Close'),\n",
       "            (  'IBM', 'Adj Close'),\n",
       "            (  'IBM',    'Volume')],\n",
       "           names=['Ticker', 'Price'], length=300)"
      ]
     },
     "execution_count": 4,
     "metadata": {},
     "output_type": "execute_result"
    }
   ],
   "source": [
    "data.columns"
   ]
  },
  {
   "cell_type": "code",
   "execution_count": null,
   "metadata": {},
   "outputs": [],
   "source": []
  }
 ],
 "metadata": {
  "kernelspec": {
   "display_name": "project_thesis",
   "language": "python",
   "name": "python3"
  },
  "language_info": {
   "codemirror_mode": {
    "name": "ipython",
    "version": 3
   },
   "file_extension": ".py",
   "mimetype": "text/x-python",
   "name": "python",
   "nbconvert_exporter": "python",
   "pygments_lexer": "ipython3",
   "version": "3.11.0"
  }
 },
 "nbformat": 4,
 "nbformat_minor": 2
}
